import unittest

class TestLOOCV(unittest.TestCase):
    def test_model1(self):
        # Test model 1
        # Add your code here
        
    def test_model2(self):
        # Test model 2
        # Add your code here
        
    def test_model3(self):
        # Test model 3
        # Add your code here
        
    def test_model4(self):
        # Test model 4
        # Add your code here

if __name__ == '__main__':
    unittest.main()